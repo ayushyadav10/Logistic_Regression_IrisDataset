{
 "cells": [
  {
   "cell_type": "markdown",
   "metadata": {
    "id": "KzKdbZc0zdQS"
   },
   "source": [
    "## Logistic Regression\n",
    "Linear regression is used to predict values of quantities as a linear function of the input values. When predicting a discrete variable, such as whether a grid of pixel intensities represents 0 or 1, we need to classify the input values. Logistic regression is a simple classification algorithm for learning to make such decisions. It is a model that is used when the dependent variable is categorical. A few cases where logistic regression can be used are mentioned below:\n",
    "- Image segmentation and categorization\n",
    "- Geographic image recognition\n",
    "- Handwriting recognition\n",
    "- Determining whether a person is depressed based on the words of his social media posts\n",
    "- Predicting the probability of a person voting for a candidate in an election\n",
    "\n",
    "Logistic regression falls under supervised learning; it measures the relationship between the categorical dependent variable and one or more independent variables by estimating probabilities using a logistic/sigmoid function. Despite the name 'logistic regression', it is not used for machine learning regression problem where the task is to predict the real-valued output. It is a classification problem that is used to predict a binary outcome (1/0, -1/1, True/False) given a set of independent variables. Logistic regression is a bit similar to linear regression, or we can say it as a generalized linear model. In linear regression, we predict a real-valued output ' y' based on a weighted sum of input variables.\n",
    "\n",
    "![alt text](https://d2a032ejo53cab.cloudfront.net/Glossary/RhPKYU1R/logistic.PNG \"Linear\")\n",
    "\n",
    "$$ y = c \\;+ \\;w_{1} * \\;x_{1} + \\;w_{2} * \\;x_{2}* \\;w_{3} * \\;x_{3} +... \\;w_{n} * \\;x_{n}$$\n",
    "\n",
    "Linear regression aims to estimate values for the model coefficients $c$, $w_{1}$, $w_{1}$, $w_{3}$...$w_{n}$ and fit the training data with minimal squared error and predict the output y.\n",
    "\n",
    "Logistic regression does the same thing, but with one addition. The logistic regression model computes a weighted sum of the input variables similar to the linear regression, but it runs the result through a special\n",
    "non-linear function, the logistic function or sigmoid function, to produce the output y. Here, the output is binary or in the form of 0/1 or -1/1.\n",
    "\n",
    "![alt text](https://d2a032ejo53cab.cloudfront.net/Glossary/JDilmsrZ/logistic1.PNG \"Logistic\")\n",
    "\n",
    "\n",
    "The sigmoid/logistic function is given by the following equation:\n",
    "\n",
    "$$ y = logistic (c \\;+ \\;w_{1} * \\;x_{1} + \\;w_{2} * \\;x_{2}* \\;w_{3} * \\;x_{3} +... \\;w_{n} * \\;x_{n})$$\n",
    "$$ y = 1/[1 + e^{-(c \\;+ \\;w_{1} * \\;x_{1} + \\;w_{2} * \\;x_{2}* \\;w_{3} * \\;x_{3} +... \\;w_{n} * \\;x_{n})}]$$\n",
    "$$ y = 1/[1 +e^{-x}]$$\n",
    "\n",
    "As you can see in the below graph, it is an S-shaped curve that gets closer to 1 as the input variable's value increases above 0 and gets closer to 0 as the input variable decreases below 0. The output of the sigmoid function is 0.5 when the input variable is 0.\n",
    "\n",
    "![alt text](https://d2a032ejo53cab.cloudfront.net/Glossary/CZwY5Wru/sigmoid.PNG \"Sigmoid\")"
   ]
  },
  {
   "cell_type": "markdown",
   "metadata": {
    "id": "74Y5v3UHzdQW"
   },
   "source": [
    "In this notebook, we will perform the following steps:\n",
    "\n",
    "\n",
    "1. [Import Data](#data)\n",
    "\n",
    "\n",
    "2. [Logistic Regression Model](#model)\n",
    "\n",
    "\n",
    "3. [Predict the Values](#predict)\n",
    "\n",
    "\n",
    "4. [Plot the Result](#plot)\n",
    "    \n",
    "<a id='data'></a> \n",
    "\n",
    "## Import Data\n",
    "\n",
    "We will use <a href=\"https://scikit-learn.org/stable/modules/generated/sklearn.linear_model.LogisticRegression.html\" target=\"_blank\"> Scikit-Learn</a> library is to perform the logistic regression. \n",
    "\n",
    "We will use an Iris dataset which is already available in the Scikit-Learn library. This data sets consists of 3 different types of irises: Setosa, Versicolour and virginica.</b>"
   ]
  },
  {
   "cell_type": "code",
   "execution_count": 1,
   "metadata": {
    "id": "FOqOlDtlzdQZ"
   },
   "outputs": [],
   "source": [
    "# Import libraries\n",
    "import numpy as np\n",
    "import matplotlib.pyplot as plt\n",
    "import warnings\n",
    "warnings.filterwarnings('ignore')\n",
    "\n",
    "# Import linear_model \n",
    "from sklearn import linear_model, datasets\n",
    "\n",
    "# Import pandas \n",
    "import pandas as pd"
   ]
  },
  {
   "cell_type": "markdown",
   "metadata": {
    "id": "d28DiziWzdQb"
   },
   "source": [
    "Now we will import the iris dataset and explore the dataset's features. Then, we will understand how to choose target and predictor variables for a logistic regression model."
   ]
  },
  {
   "cell_type": "code",
   "execution_count": 2,
   "metadata": {
    "id": "I3C4KEGQzdQc",
    "outputId": "006c6552-d2bc-4316-9219-b38a2660d2ed"
   },
   "outputs": [
    {
     "data": {
      "text/html": [
       "<div>\n",
       "<style scoped>\n",
       "    .dataframe tbody tr th:only-of-type {\n",
       "        vertical-align: middle;\n",
       "    }\n",
       "\n",
       "    .dataframe tbody tr th {\n",
       "        vertical-align: top;\n",
       "    }\n",
       "\n",
       "    .dataframe thead th {\n",
       "        text-align: right;\n",
       "    }\n",
       "</style>\n",
       "<table border=\"1\" class=\"dataframe\">\n",
       "  <thead>\n",
       "    <tr style=\"text-align: right;\">\n",
       "      <th></th>\n",
       "      <th>sepal length (cm)</th>\n",
       "      <th>sepal width (cm)</th>\n",
       "      <th>petal length (cm)</th>\n",
       "      <th>petal width (cm)</th>\n",
       "      <th>target</th>\n",
       "    </tr>\n",
       "  </thead>\n",
       "  <tbody>\n",
       "    <tr>\n",
       "      <th>0</th>\n",
       "      <td>5.1</td>\n",
       "      <td>3.5</td>\n",
       "      <td>1.4</td>\n",
       "      <td>0.2</td>\n",
       "      <td>0</td>\n",
       "    </tr>\n",
       "    <tr>\n",
       "      <th>1</th>\n",
       "      <td>4.9</td>\n",
       "      <td>3.0</td>\n",
       "      <td>1.4</td>\n",
       "      <td>0.2</td>\n",
       "      <td>0</td>\n",
       "    </tr>\n",
       "    <tr>\n",
       "      <th>2</th>\n",
       "      <td>4.7</td>\n",
       "      <td>3.2</td>\n",
       "      <td>1.3</td>\n",
       "      <td>0.2</td>\n",
       "      <td>0</td>\n",
       "    </tr>\n",
       "    <tr>\n",
       "      <th>3</th>\n",
       "      <td>4.6</td>\n",
       "      <td>3.1</td>\n",
       "      <td>1.5</td>\n",
       "      <td>0.2</td>\n",
       "      <td>0</td>\n",
       "    </tr>\n",
       "    <tr>\n",
       "      <th>4</th>\n",
       "      <td>5.0</td>\n",
       "      <td>3.6</td>\n",
       "      <td>1.4</td>\n",
       "      <td>0.2</td>\n",
       "      <td>0</td>\n",
       "    </tr>\n",
       "  </tbody>\n",
       "</table>\n",
       "</div>"
      ],
      "text/plain": [
       "   sepal length (cm)  sepal width (cm)  petal length (cm)  petal width (cm)  \\\n",
       "0                5.1               3.5                1.4               0.2   \n",
       "1                4.9               3.0                1.4               0.2   \n",
       "2                4.7               3.2                1.3               0.2   \n",
       "3                4.6               3.1                1.5               0.2   \n",
       "4                5.0               3.6                1.4               0.2   \n",
       "\n",
       "   target  \n",
       "0       0  \n",
       "1       0  \n",
       "2       0  \n",
       "3       0  \n",
       "4       0  "
      ]
     },
     "execution_count": 2,
     "metadata": {},
     "output_type": "execute_result"
    }
   ],
   "source": [
    "# Import iris dataset from sklearn\n",
    "iris = datasets.load_iris()   \n",
    "\n",
    "# Coverting iris dataset into dataframe using pandas\n",
    "iris_dataset = pd.DataFrame(iris.data, columns=iris.feature_names)\n",
    "\n",
    "# Defining target variable \n",
    "iris_dataset['target'] = pd.Series(iris.target)\n",
    "\n",
    "# Printing iris_dataset\n",
    "iris_dataset.head()"
   ]
  },
  {
   "cell_type": "markdown",
   "metadata": {
    "id": "QGXMNz20zdQe"
   },
   "source": [
    "From the above `iris_dataset` it is clear that we have four feature variables named `sepal length`,`sepal width`,`petal length`, `petal width`. One target variable is called `target`, one of the three types of flowers encoded as 0,1 and 2. We will see statistical quantities such as mean and the variance of `iris_dataset`."
   ]
  },
  {
   "cell_type": "code",
   "execution_count": 3,
   "metadata": {
    "id": "oK1MOQ-QzdQf",
    "outputId": "c77d9316-e38f-4b9e-f34a-7813e51c32ef"
   },
   "outputs": [
    {
     "name": "stdout",
     "output_type": "stream",
     "text": [
      "[0 1 2]\n"
     ]
    },
    {
     "data": {
      "text/html": [
       "<div>\n",
       "<style scoped>\n",
       "    .dataframe tbody tr th:only-of-type {\n",
       "        vertical-align: middle;\n",
       "    }\n",
       "\n",
       "    .dataframe tbody tr th {\n",
       "        vertical-align: top;\n",
       "    }\n",
       "\n",
       "    .dataframe thead th {\n",
       "        text-align: right;\n",
       "    }\n",
       "</style>\n",
       "<table border=\"1\" class=\"dataframe\">\n",
       "  <thead>\n",
       "    <tr style=\"text-align: right;\">\n",
       "      <th></th>\n",
       "      <th>sepal length (cm)</th>\n",
       "      <th>sepal width (cm)</th>\n",
       "      <th>petal length (cm)</th>\n",
       "      <th>petal width (cm)</th>\n",
       "      <th>target</th>\n",
       "    </tr>\n",
       "  </thead>\n",
       "  <tbody>\n",
       "    <tr>\n",
       "      <th>count</th>\n",
       "      <td>150.000000</td>\n",
       "      <td>150.000000</td>\n",
       "      <td>150.000000</td>\n",
       "      <td>150.000000</td>\n",
       "      <td>150.000000</td>\n",
       "    </tr>\n",
       "    <tr>\n",
       "      <th>mean</th>\n",
       "      <td>5.843333</td>\n",
       "      <td>3.057333</td>\n",
       "      <td>3.758000</td>\n",
       "      <td>1.199333</td>\n",
       "      <td>1.000000</td>\n",
       "    </tr>\n",
       "    <tr>\n",
       "      <th>std</th>\n",
       "      <td>0.828066</td>\n",
       "      <td>0.435866</td>\n",
       "      <td>1.765298</td>\n",
       "      <td>0.762238</td>\n",
       "      <td>0.819232</td>\n",
       "    </tr>\n",
       "    <tr>\n",
       "      <th>min</th>\n",
       "      <td>4.300000</td>\n",
       "      <td>2.000000</td>\n",
       "      <td>1.000000</td>\n",
       "      <td>0.100000</td>\n",
       "      <td>0.000000</td>\n",
       "    </tr>\n",
       "    <tr>\n",
       "      <th>25%</th>\n",
       "      <td>5.100000</td>\n",
       "      <td>2.800000</td>\n",
       "      <td>1.600000</td>\n",
       "      <td>0.300000</td>\n",
       "      <td>0.000000</td>\n",
       "    </tr>\n",
       "    <tr>\n",
       "      <th>50%</th>\n",
       "      <td>5.800000</td>\n",
       "      <td>3.000000</td>\n",
       "      <td>4.350000</td>\n",
       "      <td>1.300000</td>\n",
       "      <td>1.000000</td>\n",
       "    </tr>\n",
       "    <tr>\n",
       "      <th>75%</th>\n",
       "      <td>6.400000</td>\n",
       "      <td>3.300000</td>\n",
       "      <td>5.100000</td>\n",
       "      <td>1.800000</td>\n",
       "      <td>2.000000</td>\n",
       "    </tr>\n",
       "    <tr>\n",
       "      <th>max</th>\n",
       "      <td>7.900000</td>\n",
       "      <td>4.400000</td>\n",
       "      <td>6.900000</td>\n",
       "      <td>2.500000</td>\n",
       "      <td>2.000000</td>\n",
       "    </tr>\n",
       "  </tbody>\n",
       "</table>\n",
       "</div>"
      ],
      "text/plain": [
       "       sepal length (cm)  sepal width (cm)  petal length (cm)  \\\n",
       "count         150.000000        150.000000         150.000000   \n",
       "mean            5.843333          3.057333           3.758000   \n",
       "std             0.828066          0.435866           1.765298   \n",
       "min             4.300000          2.000000           1.000000   \n",
       "25%             5.100000          2.800000           1.600000   \n",
       "50%             5.800000          3.000000           4.350000   \n",
       "75%             6.400000          3.300000           5.100000   \n",
       "max             7.900000          4.400000           6.900000   \n",
       "\n",
       "       petal width (cm)      target  \n",
       "count        150.000000  150.000000  \n",
       "mean           1.199333    1.000000  \n",
       "std            0.762238    0.819232  \n",
       "min            0.100000    0.000000  \n",
       "25%            0.300000    0.000000  \n",
       "50%            1.300000    1.000000  \n",
       "75%            1.800000    2.000000  \n",
       "max            2.500000    2.000000  "
      ]
     },
     "execution_count": 3,
     "metadata": {},
     "output_type": "execute_result"
    }
   ],
   "source": [
    "# Printing the unique value of target variable\n",
    "print(iris_dataset.target.unique())\n",
    "\n",
    "# Printing statstical features of the iris_dataset\n",
    "iris_dataset.describe()"
   ]
  },
  {
   "cell_type": "markdown",
   "metadata": {
    "id": "TXin4_EMzdQg"
   },
   "source": [
    "We have three target variables categorised as 0,1,2. So we need to categorise our target variable using `sepal length`, `sepal width` or `petal length`,`petal width`. We will use the first two columns as predictor variables in our case. But one may use all four or the last two features it will change the model's accuracy.\n",
    "\n",
    "We will now see how our target variable is distributed or how many rows correspond to 0,1,2."
   ]
  },
  {
   "cell_type": "code",
   "execution_count": 4,
   "metadata": {
    "id": "jnWNe9lnzdQh",
    "outputId": "5fd96890-8440-4c77-ef48-3f7c6142d985"
   },
   "outputs": [
    {
     "name": "stdout",
     "output_type": "stream",
     "text": [
      "Number of rows corresponding to 0:  50\n",
      "Number of rows corresponding to 1:  50\n",
      "Number of rows corresponding to 2:  50\n"
     ]
    }
   ],
   "source": [
    "# Masking iris_dataset to get the number of rows corresponding to target variable 0,1,2 \n",
    "df0  = iris_dataset[iris_dataset.target == 0]\n",
    "df1  = iris_dataset[iris_dataset.target == 1]\n",
    "df2  = iris_dataset[iris_dataset.target == 2]\n",
    "\n",
    "# Printing number of rows corresponding to each target variable\n",
    "print('Number of rows corresponding to 0: ', len(df0))\n",
    "print('Number of rows corresponding to 1: ', len(df1))\n",
    "print('Number of rows corresponding to 2: ', len(df2))\n"
   ]
  },
  {
   "cell_type": "markdown",
   "metadata": {
    "id": "kVep8OLnzdQi"
   },
   "source": [
    "Now we have good information about iris data. So, We will define our independent variables( predictor) as the first two columns of iris data in `X`to make our model simple and dependent variable(target) in `y`."
   ]
  },
  {
   "cell_type": "code",
   "execution_count": 5,
   "metadata": {
    "id": "rWO5RUhczdQi"
   },
   "outputs": [],
   "source": [
    "# Independent variables. We will only use the first two features/Columns sepal length and width\n",
    "X = iris.data[:, :2] \n",
    "\n",
    "# Dependent variable\n",
    "Y = iris.target"
   ]
  },
  {
   "cell_type": "markdown",
   "metadata": {
    "id": "nPbui5XnzdQj"
   },
   "source": [
    "<a id='model'></a> \n",
    "\n",
    "## Logistic Regression Model \n",
    "We will use the `LogisticRegression` function from `sklearn.linear_model` library to create a logistic regression model.\n",
    "The syntax of the function is as follows:\n",
    "\n",
    "```python\n",
    "LogisticRegression()\n",
    "```\n",
    "Parameters used: \n",
    "\n",
    "    1. C (High value of C tells the model to give more weight to the training data than complexity penalty)\n",
    "    \n",
    "    \n",
    "Returns: \n",
    "\n",
    "    1. Prediction\n",
    "   "
   ]
  },
  {
   "cell_type": "code",
   "execution_count": 6,
   "metadata": {
    "id": "iR69kthJzdQk",
    "outputId": "5240c1b4-0cc2-4935-a15b-3815e4c74b70"
   },
   "outputs": [
    {
     "data": {
      "text/plain": [
       "LogisticRegression(C=100000.0)"
      ]
     },
     "execution_count": 6,
     "metadata": {},
     "output_type": "execute_result"
    }
   ],
   "source": [
    "# Create an instance of LogisticRegression and fit the data\n",
    "log_reg = linear_model.LogisticRegression(C=1e5)\n",
    "log_reg.fit(X,Y)"
   ]
  },
  {
   "cell_type": "markdown",
   "metadata": {
    "id": "b1rsEw7GzdQk"
   },
   "source": [
    "<a id='predict'></a>\n",
    "## Predict the Values\n",
    "We will use the ravel function to input the 1-D array into the regression model. Before making the predictions, we will define the boundaries to classify the Iris into different plotting range. Here we are creating the mesh using `xx` and `yy` to easily classify results under different mesh."
   ]
  },
  {
   "cell_type": "code",
   "execution_count": 7,
   "metadata": {
    "id": "v_Ma29dvzdQl"
   },
   "outputs": [],
   "source": [
    "# Step size in the mesh\n",
    "h = .01 \n",
    "\n",
    "# Create the decision boundary\n",
    "# For that, we will assign a color to each Point in the mesh [x_min, x_max] [y_min, y_max]\n",
    "# Take the endpoints of the X variable\n",
    "x_min, x_max = X[:, 0].min() - 3.5, X[:, 0].max() + 3.5 \n",
    "# Take the endpoints of the Y variable\n",
    "y_min, y_max = X[:, 0].min() - 3.5, X[:, 0].max() + 3.5  \n",
    "\n",
    "# Create a mesh using np.mesh function so that we can easily see the classified results under different mesh\n",
    "xx, yy = np.meshgrid(np.arange(x_min, x_max, h), np.arange(y_min, y_max, h))"
   ]
  },
  {
   "cell_type": "code",
   "execution_count": 8,
   "metadata": {
    "id": "q6DVtgCHzdQm",
    "outputId": "f546c7b5-750c-4a96-a531-05a35d9f79d3"
   },
   "outputs": [
    {
     "data": {
      "text/plain": [
       "array([0, 0, 0, ..., 0, 0, 0])"
      ]
     },
     "execution_count": 8,
     "metadata": {},
     "output_type": "execute_result"
    }
   ],
   "source": [
    "Z = log_reg.predict(np.c_[xx.ravel(), yy.ravel()])\n",
    "Z"
   ]
  },
  {
   "cell_type": "markdown",
   "metadata": {
    "id": "VGkOeHJszdQn"
   },
   "source": [
    "<a id='plot'></a> \n",
    "\n",
    "## Plot the Result"
   ]
  },
  {
   "cell_type": "code",
   "execution_count": 9,
   "metadata": {
    "id": "Pz3IIOIlzdQn",
    "outputId": "1152325f-df62-4add-f1f0-965441834d4c"
   },
   "outputs": [
    {
     "data": {
      "image/png": "[encoded data removed]",
      "text/plain": [
       "<Figure size 1000x700 with 1 Axes>"
      ]
     },
     "metadata": {},
     "output_type": "display_data"
    }
   ],
   "source": [
    "Z = Z.reshape(xx.shape)\n",
    "plt.figure(1, figsize=(10, 7))\n",
    "plt.pcolormesh(xx, yy, Z, cmap=plt.cm.Paired)\n",
    "\n",
    "# Plot also the training points\n",
    "plt.scatter(X[:, 0], X[:, 1], c=Y, edgecolors=\"k\", cmap=plt.cm.Paired)\n",
    "plt.xlabel('Sepal Length', fontsize=12)\n",
    "plt.ylabel('Sepal Width', fontsize=12)\n",
    "plt.title('Logictic Regression on Iris Dataset', fontsize=14)\n",
    "\n",
    "plt.show()"
   ]
  },
  {
   "cell_type": "markdown",
   "metadata": {
    "id": "B8OrgwyhzdQo"
   },
   "source": [
    "As you can see, the iris has been classified into different categories. \n",
    "## Conclusion\n",
    "We can use the Logistic Regression to classify different features under different categories but with the condition that the independent variable must have different categories. Now it’s your turn to play with the code by changing parameters and create a better strategy based on it.<br><br>"
   ]
  }
 ],
 "metadata": {
  "colab": {
   "collapsed_sections": [],
   "name": "Logistic Regression.ipynb",
   "provenance": []
  },
  "kernelspec": {
   "display_name": "Python 3 (ipykernel)",
   "language": "python",
   "name": "python3"
  },
  "language_info": {
   "codemirror_mode": {
    "name": "ipython",
    "version": 3
   },
   "file_extension": ".py",
   "mimetype": "text/x-python",
   "name": "python",
   "nbconvert_exporter": "python",
   "pygments_lexer": "ipython3",
   "version": "3.9.5"
  }
 },
 "nbformat": 4,
 "nbformat_minor": 1
}
